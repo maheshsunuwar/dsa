{
 "cells": [
  {
   "cell_type": "markdown",
   "metadata": {
    "id": "B7T-JDWEXHiP",
    "jp-MarkdownHeadingCollapsed": true
   },
   "source": [
    "# Binary Search"
   ]
  },
  {
   "cell_type": "code",
   "execution_count": 5,
   "metadata": {
    "id": "Kba4yqOERciz"
   },
   "outputs": [],
   "source": [
    "def binary_search(list, target):\n",
    "  first = 0\n",
    "  last = len(list) - 1\n",
    "\n",
    "  while first<=last :\n",
    "    midpoint = (first + last) //2\n",
    "\n",
    "    if list[midpoint] == target:\n",
    "      return \"Found\"\n",
    "    elif list[midpoint] < target:\n",
    "      first = midpoint +1\n",
    "    else:\n",
    "      last = midpoint - 1\n",
    "\n",
    "  return None\n",
    "\n"
   ]
  },
  {
   "cell_type": "code",
   "execution_count": 6,
   "metadata": {
    "id": "i9ScrmwiRf_8"
   },
   "outputs": [],
   "source": [
    "def verify(index):\n",
    "  if index is None:\n",
    "    return \"Value is not Found\"\n",
    "  else:\n",
    "    return index"
   ]
  },
  {
   "cell_type": "code",
   "execution_count": 7,
   "metadata": {
    "id": "r9YzKLlCUdKK"
   },
   "outputs": [],
   "source": [
    "def binary_search(values, target):\n",
    "  midpoint = len(values) // 2\n",
    "\n",
    "  if(len(values) < 1):\n",
    "    return \"Not Found\"\n",
    "\n",
    "  if values[midpoint] == target:\n",
    "    return \"Found\"\n",
    "  elif values[midpoint] > target:\n",
    "    return binary_search(values[:midpoint], target)\n",
    "  elif values[midpoint] < target:\n",
    "    return binary_search(values[midpoint+1:], target)\n",
    "  else:\n",
    "    return None"
   ]
  },
  {
   "cell_type": "code",
   "execution_count": 8,
   "metadata": {
    "colab": {
     "base_uri": "https://localhost:8080/",
     "height": 35
    },
    "id": "aOjPQfTuRtbE",
    "outputId": "c32fd042-ead1-4529-cfc1-c89ccac160d2"
   },
   "outputs": [
    {
     "data": {
      "text/plain": [
       "'Not Found'"
      ]
     },
     "execution_count": 8,
     "metadata": {},
     "output_type": "execute_result"
    }
   ],
   "source": [
    "result = binary_search(range(0,15), 104)\n",
    "verify(result)\n"
   ]
  },
  {
   "cell_type": "markdown",
   "metadata": {
    "id": "J22qZbIGWtXV"
   },
   "source": [
    "# Linked List"
   ]
  },
  {
   "cell_type": "code",
   "execution_count": 1,
   "metadata": {
    "id": "iRYCdLMbW_k3"
   },
   "outputs": [],
   "source": [
    "# create a node\n",
    "class Node:\n",
    "    \"\"\"\n",
    "    An object for storing a single node of a linked list.\n",
    "    Models two attributes - data and the link to the next node in the list\n",
    "    \"\"\"\n",
    "    data = None\n",
    "    next_node = None\n",
    "        \n",
    "    def __init__(self, data):\n",
    "      self.data = data\n",
    "        \n",
    "    def __repr__(self):\n",
    "        return f\"<Node data: {self.data}>\"\n",
    "\n",
    "\n",
    "class LinkedList:\n",
    "    \"\"\"\n",
    "    Singly Linked List\n",
    "    \"\"\"\n",
    "\n",
    "    def __init__(self):\n",
    "        self.head = None\n",
    "\n",
    "    def is_empty(self):\n",
    "        return self.head == None\n",
    "\n",
    "    def size(self):\n",
    "        \"\"\"\n",
    "        Returns the number of nodes in the list\n",
    "        Takes O(n) time\n",
    "        \"\"\"\n",
    "        current = self.head\n",
    "        count = 0\n",
    "        while current:\n",
    "          count += 1\n",
    "          current = current.next_node\n",
    "        return count\n",
    "\n",
    "    def add(self, data):\n",
    "        \"\"\"\n",
    "        Adds a new Node containing data at the head of the list\n",
    "        Takes O(1) time\n",
    "        \"\"\"\n",
    "        new_node = Node(data)\n",
    "        new_node.next_node = self.head\n",
    "        \n",
    "        self.head = new_node\n",
    "\n",
    "    def search(self, key):\n",
    "        \"\"\"\n",
    "        Search for the first node containing data that matches the key\n",
    "        Return the node or 'None' if not \n",
    "        Takes O(n) time\n",
    "        \"\"\"\n",
    "        current = self.head\n",
    "        while current:\n",
    "          if current.data == key:\n",
    "              return current\n",
    "              \n",
    "          else:\n",
    "            current = current.next_node\n",
    "              \n",
    "        return None\n",
    "\n",
    "    def insert(self, data, index):\n",
    "        \"\"\"\n",
    "        Inserts a new Node containing data at index position\n",
    "        Insertion takes O(1) time but finding the node at the insertion point takes O(n) time\n",
    "        \"\"\"\n",
    "        if index == 0:\n",
    "          self.add(data)\n",
    "        \n",
    "        if index > (self.size() - 1):\n",
    "          return f\"Index position {index} is out of range\"\n",
    "        \n",
    "        if index > 0:\n",
    "          position = index\n",
    "          current = self.head\n",
    "        \n",
    "          new = Node(data)\n",
    "          while position > 1:\n",
    "            current = current.next_node\n",
    "            position -= 1\n",
    "        \n",
    "          prev_node = current\n",
    "          next_node = current.next_node\n",
    "        \n",
    "          prev_node.next_node = new\n",
    "          new.next_node = next_node\n",
    "\n",
    "    def remove_atIndex(self, index):\n",
    "        \"\"\"\n",
    "        Removes a node at the provided index position\n",
    "        Takes a O(1) time to remove but Takes O(n) time to search for the index\n",
    "        Overall it takes O(n) time\n",
    "        \"\"\"\n",
    "        current = self.head\n",
    "        \n",
    "        if index > (self.size() - 1):\n",
    "          return f\"Index position {index} is out of range\"\n",
    "            \n",
    "        if index == 0:\n",
    "          self.head = current.next_node\n",
    "            \n",
    "        if index > 0:\n",
    "          position = index\n",
    "          while position > 1:\n",
    "            position -= 1\n",
    "            current = current.next_node\n",
    "              \n",
    "          remove_node = current.next_node\n",
    "          current.next_node = remove_node.next_node\n",
    "\n",
    "    def remove(self, key):\n",
    "        \"\"\"\n",
    "        Removes a node with the provided key, if available\n",
    "        Returns the node or None if key doesn't exist\n",
    "        Takes a O(1) time to remove but Takes O(n) time to search for the node\n",
    "    \n",
    "        Overall it takes O(n) time\n",
    "        \"\"\"\n",
    "        current = self.head\n",
    "        previous = None\n",
    "        found = False\n",
    "    \n",
    "        while current and not found:\n",
    "          if current.data == key and current is self.head:\n",
    "            found = True\n",
    "            self.head = current.next_node\n",
    "          elif current.data == key:\n",
    "            found = True\n",
    "            previous.next_node = current.next_node\n",
    "          else:\n",
    "            previous = current\n",
    "            current = current.next_node\n",
    "    \n",
    "        return current\n",
    "\n",
    "    def node_at_index(self, idx):\n",
    "        \"\"\"\n",
    "        Returns the node at index idx\n",
    "        \"\"\"\n",
    "        if idx == 0:\n",
    "            return self.head\n",
    "        else:\n",
    "            current = self.head\n",
    "            position = 0\n",
    "\n",
    "            while position < idx:\n",
    "                current = current.next_node \n",
    "                position+=1\n",
    "                \n",
    "            return current\n",
    "    def __repr__(self):\n",
    "        \"\"\"\n",
    "        Returns a string representation of the list\n",
    "        Takes O(n) time\n",
    "        Takes overall O(n) time\n",
    "        \"\"\"\n",
    "        nodes = []\n",
    "        current = self.head\n",
    "\n",
    "        while current:\n",
    "            if current is self.head:\n",
    "              nodes.append(f\"[Head {current.data}]\")\n",
    "            elif current.next_node is None:\n",
    "              nodes.append(f\"[Tail {current.data}]\")\n",
    "            else:\n",
    "                nodes.append(f\"[{current.data}]\")\n",
    "\n",
    "            current = current.next_node\n",
    "\n",
    "        return \" -> \".join(nodes)\n"
   ]
  },
  {
   "cell_type": "code",
   "execution_count": 10,
   "metadata": {
    "colab": {
     "base_uri": "https://localhost:8080/"
    },
    "id": "B7WvNoe6gLWV",
    "outputId": "8009fbda-2091-4fce-c3c6-4594452957af"
   },
   "outputs": [
    {
     "data": {
      "text/plain": [
       "5"
      ]
     },
     "execution_count": 10,
     "metadata": {},
     "output_type": "execute_result"
    }
   ],
   "source": [
    "l = LinkedList()\n",
    "l.add(1)\n",
    "l.add(3)\n",
    "l.add(5)\n",
    "l.add(7)\n",
    "l.add(9)\n",
    "l.size()"
   ]
  },
  {
   "cell_type": "code",
   "execution_count": 11,
   "metadata": {
    "id": "llkvoj5bab-A"
   },
   "outputs": [],
   "source": [
    "l.insert(4,0)"
   ]
  },
  {
   "cell_type": "code",
   "execution_count": 12,
   "metadata": {
    "colab": {
     "base_uri": "https://localhost:8080/"
    },
    "id": "aOpjXJKA8VZa",
    "outputId": "b813049f-11b0-4ecf-f30c-0db3d7b79360"
   },
   "outputs": [
    {
     "data": {
      "text/plain": [
       "[Head 4] -> [9] -> [7] -> [5] -> [3] -> [Tail 1]"
      ]
     },
     "execution_count": 12,
     "metadata": {},
     "output_type": "execute_result"
    }
   ],
   "source": [
    "l"
   ]
  },
  {
   "cell_type": "code",
   "execution_count": 13,
   "metadata": {
    "id": "0OjxbJWbAiWI"
   },
   "outputs": [],
   "source": [
    "l.remove_atIndex(0)\n"
   ]
  },
  {
   "cell_type": "code",
   "execution_count": 14,
   "metadata": {
    "colab": {
     "base_uri": "https://localhost:8080/"
    },
    "id": "2XuU0W5Ghl6D",
    "outputId": "fd383337-9bc1-4862-d161-9e30761c4389"
   },
   "outputs": [],
   "source": [
    "l.remove(4)"
   ]
  },
  {
   "cell_type": "code",
   "execution_count": 15,
   "metadata": {
    "colab": {
     "base_uri": "https://localhost:8080/"
    },
    "id": "5N4SizqqvW-C",
    "outputId": "7d38553e-91e6-4a93-b9a9-60d21e3ecf9f"
   },
   "outputs": [
    {
     "data": {
      "text/plain": [
       "[Head 9] -> [7] -> [5] -> [3] -> [Tail 1]"
      ]
     },
     "execution_count": 15,
     "metadata": {},
     "output_type": "execute_result"
    }
   ],
   "source": [
    "l"
   ]
  },
  {
   "cell_type": "markdown",
   "metadata": {
    "id": "nj6aNpSf_bh5"
   },
   "source": [
    "# Merge Sort"
   ]
  },
  {
   "cell_type": "markdown",
   "metadata": {},
   "source": [
    "## Using Arrays"
   ]
  },
  {
   "cell_type": "markdown",
   "metadata": {},
   "source": [
    "### Recursive Solution"
   ]
  },
  {
   "cell_type": "code",
   "execution_count": 18,
   "metadata": {
    "id": "iWIqn_GR_d9k"
   },
   "outputs": [],
   "source": [
    "def merge_sort(list):\n",
    "    \"\"\"\n",
    "    Main merge_sort function\n",
    "    \"\"\"\n",
    "    if len(list) <=1:\n",
    "    return list\n",
    "\n",
    "    # divide our list into sublists\n",
    "    left_half, right_half = split(list)\n",
    "\n",
    "    #split the left half and right half more\n",
    "    left = merge_sort(left_half)\n",
    "    right = merge_sort(right_half)\n",
    "\n",
    "    # merge the left and right half\n",
    "    return merge(left, right)\n",
    "\n",
    "# splitting the list\n",
    "def split(list):\n",
    "    \"\"\"\n",
    "    splitting the list\n",
    "    \"\"\"\n",
    "    mid = len(list) // 2\n",
    "    \n",
    "    left_half = list[:mid]\n",
    "    right_half = list[mid:]\n",
    "    \n",
    "    return left_half, right_half\n",
    "\n",
    "# merging the splited list, sorting the list at the same time\n",
    "def merge(left, right):\n",
    "    \"\"\"\n",
    "    merging the splitted list and sorting them in the process\n",
    "    \"\"\"\n",
    "    sorted_list = []\n",
    "    i = 0\n",
    "    j = 0\n",
    "    \n",
    "    while i < len(left) and j < len(right):\n",
    "        if left[i] < right[j]:\n",
    "            sorted_list.append(left[i])\n",
    "            i += 1\n",
    "        else:\n",
    "            sorted_list.append(right[j])\n",
    "            j += 1\n",
    "\n",
    "    while i < len(left):\n",
    "        sorted_list.append(left[i])\n",
    "        i += 1\n",
    "\n",
    "    while j < len(right):\n",
    "        sorted_list.append(right[j])\n",
    "        j += 1\n",
    "        \n",
    "    return sorted_list\n",
    "\n",
    "# function to verify if the list is sorted\n",
    "def verify_sorted(list):\n",
    "    \"\"\"\n",
    "    Verifies if the list is sorted\n",
    "    This is a recursive approach to verify the sorted list\n",
    "    \"\"\"\n",
    "    n = len(list)\n",
    "\n",
    "    ## recursive function requres a stopping condition\n",
    "    if n==0 or n==1 :\n",
    "        return True\n",
    "\n",
    "    return list[0] <= list[1] and verify_sorted(list[1:])\n"
   ]
  },
  {
   "cell_type": "code",
   "execution_count": 19,
   "metadata": {
    "colab": {
     "base_uri": "https://localhost:8080/"
    },
    "id": "dsMTt56pJL-s",
    "outputId": "e0c93967-8e9e-4aeb-f8d0-d983a8ed0517"
   },
   "outputs": [
    {
     "name": "stdout",
     "output_type": "stream",
     "text": [
      "[0, 1, 2, 3, 3, 4, 4, 5, 5, 5, 6, 6, 6, 7, 7, 7, 9, 22, 44, 55, 66, 66, 123, 243, 345, 456, 564, 657, 1234, 567234]\n"
     ]
    }
   ],
   "source": [
    "alist = [9,6,5,4,6,2,7,0,1,6,5,7,4,3,5,66,7,44,3,22,55,66,345,657,1234,567234,564,123,456,243]\n",
    "\n",
    "print(merge_sort(alist))"
   ]
  },
  {
   "cell_type": "code",
   "execution_count": 21,
   "metadata": {
    "colab": {
     "base_uri": "https://localhost:8080/"
    },
    "id": "6aDVyfiwJnAd",
    "outputId": "eedb2ee1-4f89-4abd-a99f-1db5c97ce6b7"
   },
   "outputs": [
    {
     "name": "stdout",
     "output_type": "stream",
     "text": [
      "False\n",
      "True\n"
     ]
    }
   ],
   "source": [
    "print(verify_sorted(alist))\n",
    "print(verify_sorted(merge_sort(alist)))\n"
   ]
  },
  {
   "cell_type": "markdown",
   "metadata": {
    "id": "3k-MSC7_aiRv"
   },
   "source": [
    "### Iterative Solution WIP****"
   ]
  },
  {
   "cell_type": "code",
   "execution_count": null,
   "metadata": {},
   "outputs": [],
   "source": []
  },
  {
   "cell_type": "markdown",
   "metadata": {},
   "source": [
    "## Using LinkedList"
   ]
  },
  {
   "cell_type": "code",
   "execution_count": 4,
   "metadata": {},
   "outputs": [
    {
     "name": "stdout",
     "output_type": "stream",
     "text": [
      "[Head 1] -> [2] -> [Tail 1]\n"
     ]
    }
   ],
   "source": [
    "# reusing the linked list code we wrote earlier\n",
    "\n",
    "l = LinkedList()\n",
    "l.add(1)\n",
    "l.add(2)\n",
    "l.add(1)\n",
    "print(l)"
   ]
  },
  {
   "cell_type": "code",
   "execution_count": 6,
   "metadata": {},
   "outputs": [
    {
     "data": {
      "text/plain": [
       "3"
      ]
     },
     "execution_count": 6,
     "metadata": {},
     "output_type": "execute_result"
    }
   ],
   "source": [
    "l.size()"
   ]
  },
  {
   "cell_type": "code",
   "execution_count": 12,
   "metadata": {},
   "outputs": [],
   "source": [
    "def merge_sort(linked_list):\n",
    "    \"\"\"\n",
    "    Sorts a linked list in ascending order.\n",
    "    \n",
    "    Returns:\n",
    "        sorted linked list\n",
    "    \"\"\"\n",
    "\n",
    "    if linked_list.size() == 1:\n",
    "        return linked_list\n",
    "    elif linked_list.head is None:\n",
    "        return linked_list\n",
    "        \n",
    "    left_half, right_half = split(linked_list)\n",
    "    left = merge_sort(left_half)\n",
    "    right = merge_sort(right_half)\n",
    "    \n",
    "    return merge(left, right)\n",
    "\n",
    "def split(linked_list: LinkedList):\n",
    "    \"\"\"\n",
    "    Divide the unsorted list at midpoint into sublists\n",
    "    \"\"\"\n",
    "    mid = linked_list.size()//2\n",
    "    mid_node = linked_list.node_at_index(mid-1)\n",
    "\n",
    "    left_half = linked_list\n",
    "    \n",
    "    right_half = LinkedList()\n",
    "    right_half.head = mid_node.next_node\n",
    "\n",
    "    mid_node.next_node = None \n",
    "\n",
    "    return left_half, right_half\n",
    "\n",
    "def merge(left: LinkedList, right:LinkedList):\n",
    "    \"\"\"\n",
    "    Merges two linked lists, sorting by data in nodes\n",
    "\n",
    "    Returns:\n",
    "        a new, merged list\n",
    "    \"\"\"\n",
    "    merged = LinkedList()\n",
    "\n",
    "    # adding the fake head that we can discard later\n",
    "    merged.add(0) \n",
    "\n",
    "    # set current to the head of the linked list\n",
    "    current = merged.head\n",
    "\n",
    "    # obtain head nodes for left and right linked lists\n",
    "    left_head = left.head\n",
    "    right_head = right.head\n",
    "\n",
    "    # iterate over left and right until we reach the tail node of either\n",
    "    while left_head or right_head:\n",
    "        # if the head node of left is None, we're past the tail\n",
    "        # and the node from the right is merged to the linked list\n",
    "\n",
    "        if left_head is None:\n",
    "            current.next_node = right_head\n",
    "            right_head = right_head.next_node\n",
    "        elif right_head is None:\n",
    "            current.next_node = left_head\n",
    "            left_head = left_head.next_node\n",
    "        else:\n",
    "            left_data = left_head.data\n",
    "            right_data = right_head.data\n",
    "\n",
    "            if left_data < right_data:\n",
    "                current.next_node = left_head\n",
    "                left_head = left_head.next_noden\n",
    "            else:\n",
    "                current.next_node = right_head\n",
    "                right_head = right_head.next_node\n",
    "        current = current.next_node\n",
    "    #discard fake head and set first merged node as head\n",
    "    head = merged.head.next_node\n",
    "    merged.head = head\n",
    "\n",
    "    return merged   \n",
    "    "
   ]
  },
  {
   "cell_type": "code",
   "execution_count": 13,
   "metadata": {},
   "outputs": [
    {
     "name": "stdout",
     "output_type": "stream",
     "text": [
      "[Head 9] -> [7] -> [5] -> [3] -> [Tail 1]\n"
     ]
    }
   ],
   "source": [
    "l = LinkedList()\n",
    "l.add(1)\n",
    "l.add(3)\n",
    "l.add(5)\n",
    "l.add(7)\n",
    "l.add(9)\n",
    "\n",
    "print(l)"
   ]
  },
  {
   "cell_type": "code",
   "execution_count": 14,
   "metadata": {},
   "outputs": [
    {
     "name": "stdout",
     "output_type": "stream",
     "text": [
      "[Head 1] -> [3] -> [5] -> [7] -> [Tail 9]\n"
     ]
    }
   ],
   "source": [
    "sorted_linked_list = merge_sort(l)\n",
    "print(sorted_linked_list)"
   ]
  },
  {
   "cell_type": "code",
   "execution_count": null,
   "metadata": {},
   "outputs": [],
   "source": []
  }
 ],
 "metadata": {
  "colab": {
   "provenance": [],
   "toc_visible": true
  },
  "kernelspec": {
   "display_name": "Python 3 (ipykernel)",
   "language": "python",
   "name": "python3"
  },
  "language_info": {
   "codemirror_mode": {
    "name": "ipython",
    "version": 3
   },
   "file_extension": ".py",
   "mimetype": "text/x-python",
   "name": "python",
   "nbconvert_exporter": "python",
   "pygments_lexer": "ipython3",
   "version": "3.10.14"
  }
 },
 "nbformat": 4,
 "nbformat_minor": 4
}
